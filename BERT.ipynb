{
  "nbformat": 4,
  "nbformat_minor": 0,
  "metadata": {
    "colab": {
      "provenance": [],
      "include_colab_link": true
    },
    "kernelspec": {
      "name": "python3",
      "display_name": "Python 3"
    },
    "language_info": {
      "name": "python"
    },
    "accelerator": "GPU"
  },
  "cells": [
    {
      "cell_type": "markdown",
      "metadata": {
        "id": "view-in-github",
        "colab_type": "text"
      },
      "source": [
        "<a href=\"https://colab.research.google.com/github/Xiaohei-dsy/Sentiment-Analysis-System/blob/main/BERT.ipynb\" target=\"_parent\"><img src=\"https://colab.research.google.com/assets/colab-badge.svg\" alt=\"Open In Colab\"/></a>"
      ]
    },
    {
      "cell_type": "markdown",
      "source": [
        "# 597ML Final Project\n",
        "### Fine-Tuning BERT for Pun Classification\n",
        "\n",
        "**By Dhruv, Chenkai and Shouyou**\n",
        "\n",
        "> ### Introduction\n",
        "For this project, we used a form of the SemeVal 2017 Task 3 Dataset of Puns [SemeVal 2017 Task 7 Dataset of Puns](https://alt.qcri.org/semeval2017/task7/). We used a modified version of this dataset, that was in a TSV form instead of XML found [here](https://github.com/qiwei-404/masked-pun-detector-with-bert/blob/master/data/base/test.tsv). We will be fine-tuning the BERT for classifying puns using this generated dataset. Google Drive Link: https://drive.google.com/file/d/1q1yx0tqN8339fjMGmbKKOWADLylSwANY/view?usp=sharing\n"
      ],
      "metadata": {
        "id": "mWhITh8MNmlE"
      }
    },
    {
      "cell_type": "markdown",
      "source": [
        "## Section 0: Download Dataset and Install Prerequisites\n",
        "Run this everytime you set up a new Colab environment..."
      ],
      "metadata": {
        "id": "rrCtm_dhXs-K"
      }
    },
    {
      "cell_type": "code",
      "execution_count": null,
      "metadata": {
        "id": "PsHbf5ctTgVC",
        "colab": {
          "base_uri": "https://localhost:8080/"
        },
        "outputId": "ca3f367d-c678-4a1e-e47b-beec6d9311ce"
      },
      "outputs": [
        {
          "output_type": "stream",
          "name": "stdout",
          "text": [
            "Downloading...\n",
            "From: https://drive.google.com/uc?id=1q1yx0tqN8339fjMGmbKKOWADLylSwANY\n",
            "To: /content/test.tsv\n",
            "\r  0% 0.00/129k [00:00<?, ?B/s]\r100% 129k/129k [00:00<00:00, 51.7MB/s]\n"
          ]
        }
      ],
      "source": [
        "# Download dataset\n",
        "\n",
        "# File ID = 1SLDAviAeuzGXJrEKuxI5tGvU0X2NjLap\n",
        "# ^ Where the file is available (Google Drive link)\n",
        "# ! gdown 1SLDAviAeuzGXJrEKuxI5tGvU0X2NjLap\n",
        "! gdown 1q1yx0tqN8339fjMGmbKKOWADLylSwANY"
      ]
    },
    {
      "cell_type": "code",
      "source": [
        "# Run only during launch\n",
        "! pip install transformers\n",
        "! pip install -q tf-models-official==2.7.0\n",
        "! pip install -q -U \"tensorflow-text==2.8.*\""
      ],
      "metadata": {
        "id": "mhf-YrO3XKsD",
        "colab": {
          "base_uri": "https://localhost:8080/"
        },
        "outputId": "18d061ad-752f-4b6c-8a34-741b6882959c"
      },
      "execution_count": null,
      "outputs": [
        {
          "output_type": "stream",
          "name": "stdout",
          "text": [
            "Collecting transformers\n",
            "  Downloading transformers-4.18.0-py3-none-any.whl (4.0 MB)\n",
            "\u001b[K     |████████████████████████████████| 4.0 MB 9.5 MB/s \n",
            "\u001b[?25hRequirement already satisfied: tqdm>=4.27 in /usr/local/lib/python3.7/dist-packages (from transformers) (4.64.0)\n",
            "Collecting huggingface-hub<1.0,>=0.1.0\n",
            "  Downloading huggingface_hub-0.5.1-py3-none-any.whl (77 kB)\n",
            "\u001b[K     |████████████████████████████████| 77 kB 795 kB/s \n",
            "\u001b[?25hRequirement already satisfied: numpy>=1.17 in /usr/local/lib/python3.7/dist-packages (from transformers) (1.21.6)\n",
            "Requirement already satisfied: requests in /usr/local/lib/python3.7/dist-packages (from transformers) (2.23.0)\n",
            "Collecting sacremoses\n",
            "  Downloading sacremoses-0.0.53.tar.gz (880 kB)\n",
            "\u001b[K     |████████████████████████████████| 880 kB 36.3 MB/s \n",
            "\u001b[?25hRequirement already satisfied: packaging>=20.0 in /usr/local/lib/python3.7/dist-packages (from transformers) (21.3)\n",
            "Collecting tokenizers!=0.11.3,<0.13,>=0.11.1\n",
            "  Downloading tokenizers-0.12.1-cp37-cp37m-manylinux_2_12_x86_64.manylinux2010_x86_64.whl (6.6 MB)\n",
            "\u001b[K     |████████████████████████████████| 6.6 MB 45.0 MB/s \n",
            "\u001b[?25hCollecting pyyaml>=5.1\n",
            "  Downloading PyYAML-6.0-cp37-cp37m-manylinux_2_5_x86_64.manylinux1_x86_64.manylinux_2_12_x86_64.manylinux2010_x86_64.whl (596 kB)\n",
            "\u001b[K     |████████████████████████████████| 596 kB 10.5 MB/s \n",
            "\u001b[?25hRequirement already satisfied: regex!=2019.12.17 in /usr/local/lib/python3.7/dist-packages (from transformers) (2019.12.20)\n",
            "Requirement already satisfied: filelock in /usr/local/lib/python3.7/dist-packages (from transformers) (3.6.0)\n",
            "Requirement already satisfied: importlib-metadata in /usr/local/lib/python3.7/dist-packages (from transformers) (4.11.3)\n",
            "Requirement already satisfied: typing-extensions>=3.7.4.3 in /usr/local/lib/python3.7/dist-packages (from huggingface-hub<1.0,>=0.1.0->transformers) (4.2.0)\n",
            "Requirement already satisfied: pyparsing!=3.0.5,>=2.0.2 in /usr/local/lib/python3.7/dist-packages (from packaging>=20.0->transformers) (3.0.8)\n",
            "Requirement already satisfied: zipp>=0.5 in /usr/local/lib/python3.7/dist-packages (from importlib-metadata->transformers) (3.8.0)\n",
            "Requirement already satisfied: chardet<4,>=3.0.2 in /usr/local/lib/python3.7/dist-packages (from requests->transformers) (3.0.4)\n",
            "Requirement already satisfied: certifi>=2017.4.17 in /usr/local/lib/python3.7/dist-packages (from requests->transformers) (2021.10.8)\n",
            "Requirement already satisfied: urllib3!=1.25.0,!=1.25.1,<1.26,>=1.21.1 in /usr/local/lib/python3.7/dist-packages (from requests->transformers) (1.24.3)\n",
            "Requirement already satisfied: idna<3,>=2.5 in /usr/local/lib/python3.7/dist-packages (from requests->transformers) (2.10)\n",
            "Requirement already satisfied: six in /usr/local/lib/python3.7/dist-packages (from sacremoses->transformers) (1.15.0)\n",
            "Requirement already satisfied: click in /usr/local/lib/python3.7/dist-packages (from sacremoses->transformers) (7.1.2)\n",
            "Requirement already satisfied: joblib in /usr/local/lib/python3.7/dist-packages (from sacremoses->transformers) (1.1.0)\n",
            "Building wheels for collected packages: sacremoses\n",
            "  Building wheel for sacremoses (setup.py) ... \u001b[?25l\u001b[?25hdone\n",
            "  Created wheel for sacremoses: filename=sacremoses-0.0.53-py3-none-any.whl size=895260 sha256=d2c5a85dab84e1f3fffe39f1d4adb28aeb77652f6a08b372f81bab5baab82f18\n",
            "  Stored in directory: /root/.cache/pip/wheels/87/39/dd/a83eeef36d0bf98e7a4d1933a4ad2d660295a40613079bafc9\n",
            "Successfully built sacremoses\n",
            "Installing collected packages: pyyaml, tokenizers, sacremoses, huggingface-hub, transformers\n",
            "  Attempting uninstall: pyyaml\n",
            "    Found existing installation: PyYAML 3.13\n",
            "    Uninstalling PyYAML-3.13:\n",
            "      Successfully uninstalled PyYAML-3.13\n",
            "Successfully installed huggingface-hub-0.5.1 pyyaml-6.0 sacremoses-0.0.53 tokenizers-0.12.1 transformers-4.18.0\n",
            "\u001b[K     |████████████████████████████████| 1.8 MB 12.8 MB/s \n",
            "\u001b[K     |████████████████████████████████| 90 kB 9.1 MB/s \n",
            "\u001b[K     |████████████████████████████████| 352 kB 43.3 MB/s \n",
            "\u001b[K     |████████████████████████████████| 43 kB 1.9 MB/s \n",
            "\u001b[K     |████████████████████████████████| 1.1 MB 41.2 MB/s \n",
            "\u001b[K     |████████████████████████████████| 4.9 MB 34.1 MB/s \n",
            "\u001b[K     |████████████████████████████████| 47.8 MB 60.3 MB/s \n",
            "\u001b[K     |████████████████████████████████| 99 kB 8.7 MB/s \n",
            "\u001b[K     |████████████████████████████████| 237 kB 49.5 MB/s \n",
            "\u001b[K     |████████████████████████████████| 1.2 MB 40.8 MB/s \n",
            "\u001b[K     |████████████████████████████████| 462 kB 32.9 MB/s \n",
            "\u001b[?25h  Building wheel for py-cpuinfo (setup.py) ... \u001b[?25l\u001b[?25hdone\n",
            "  Building wheel for seqeval (setup.py) ... \u001b[?25l\u001b[?25hdone\n"
          ]
        }
      ]
    },
    {
      "cell_type": "markdown",
      "source": [
        "## Section 1: Load & Pre-Processing Data"
      ],
      "metadata": {
        "id": "2iIIsUvOyepY"
      }
    },
    {
      "cell_type": "code",
      "source": [
        "import os\n",
        "import shutil\n",
        "\n",
        "import pandas as pd\n",
        "import torch\n",
        "import numpy as np\n",
        "from transformers import BertTokenizer\n",
        "\n",
        "import tensorflow as tf\n",
        "import tensorflow_hub as hub\n",
        "import tensorflow_text as text\n",
        "from official.nlp import optimization\n",
        "\n",
        "import matplotlib.pyplot as plt\n",
        "\n",
        "tf.get_logger().setLevel('ERROR')"
      ],
      "metadata": {
        "id": "MNblc9FLkj64"
      },
      "execution_count": null,
      "outputs": []
    },
    {
      "cell_type": "code",
      "source": [
        "data = pd.read_csv('test.tsv', sep='\\t')\n",
        "data.to_csv('test.csv')"
      ],
      "metadata": {
        "id": "77gq4tatz1kj"
      },
      "execution_count": null,
      "outputs": []
    },
    {
      "cell_type": "code",
      "source": [
        "# Load into Pandas dataframe\n",
        "path = 'test.csv'\n",
        "df = pd.read_csv(path)\n",
        "df = df.drop(columns=['ID'])\n",
        "df.head()"
      ],
      "metadata": {
        "colab": {
          "base_uri": "https://localhost:8080/",
          "height": 206
        },
        "id": "mtNqXydnl70c",
        "outputId": "4eeb2c89-6ea6-4cd3-8ddd-665eab43ab55"
      },
      "execution_count": null,
      "outputs": [
        {
          "output_type": "execute_result",
          "data": {
            "text/plain": [
              "   Unnamed: 0                                               Joke  Pun\n",
              "0           0  ' ' I ' m halfway up a mountain , ' ' Tom alle...    1\n",
              "1           1  I ' d like to be a Chinese laborer , said Tom ...    1\n",
              "2           2  No , baby oil does NOT come from squeezing dea...    0\n",
              "3           3  Dentists don ' t like a hard day at the orifice .    1\n",
              "4           4                    Are evil wildebeests bad gnus ?    1"
            ],
            "text/html": [
              "\n",
              "  <div id=\"df-4617921f-93ab-4f8f-8c08-305eac5e0727\">\n",
              "    <div class=\"colab-df-container\">\n",
              "      <div>\n",
              "<style scoped>\n",
              "    .dataframe tbody tr th:only-of-type {\n",
              "        vertical-align: middle;\n",
              "    }\n",
              "\n",
              "    .dataframe tbody tr th {\n",
              "        vertical-align: top;\n",
              "    }\n",
              "\n",
              "    .dataframe thead th {\n",
              "        text-align: right;\n",
              "    }\n",
              "</style>\n",
              "<table border=\"1\" class=\"dataframe\">\n",
              "  <thead>\n",
              "    <tr style=\"text-align: right;\">\n",
              "      <th></th>\n",
              "      <th>Unnamed: 0</th>\n",
              "      <th>Joke</th>\n",
              "      <th>Pun</th>\n",
              "    </tr>\n",
              "  </thead>\n",
              "  <tbody>\n",
              "    <tr>\n",
              "      <th>0</th>\n",
              "      <td>0</td>\n",
              "      <td>' ' I ' m halfway up a mountain , ' ' Tom alle...</td>\n",
              "      <td>1</td>\n",
              "    </tr>\n",
              "    <tr>\n",
              "      <th>1</th>\n",
              "      <td>1</td>\n",
              "      <td>I ' d like to be a Chinese laborer , said Tom ...</td>\n",
              "      <td>1</td>\n",
              "    </tr>\n",
              "    <tr>\n",
              "      <th>2</th>\n",
              "      <td>2</td>\n",
              "      <td>No , baby oil does NOT come from squeezing dea...</td>\n",
              "      <td>0</td>\n",
              "    </tr>\n",
              "    <tr>\n",
              "      <th>3</th>\n",
              "      <td>3</td>\n",
              "      <td>Dentists don ' t like a hard day at the orifice .</td>\n",
              "      <td>1</td>\n",
              "    </tr>\n",
              "    <tr>\n",
              "      <th>4</th>\n",
              "      <td>4</td>\n",
              "      <td>Are evil wildebeests bad gnus ?</td>\n",
              "      <td>1</td>\n",
              "    </tr>\n",
              "  </tbody>\n",
              "</table>\n",
              "</div>\n",
              "      <button class=\"colab-df-convert\" onclick=\"convertToInteractive('df-4617921f-93ab-4f8f-8c08-305eac5e0727')\"\n",
              "              title=\"Convert this dataframe to an interactive table.\"\n",
              "              style=\"display:none;\">\n",
              "        \n",
              "  <svg xmlns=\"http://www.w3.org/2000/svg\" height=\"24px\"viewBox=\"0 0 24 24\"\n",
              "       width=\"24px\">\n",
              "    <path d=\"M0 0h24v24H0V0z\" fill=\"none\"/>\n",
              "    <path d=\"M18.56 5.44l.94 2.06.94-2.06 2.06-.94-2.06-.94-.94-2.06-.94 2.06-2.06.94zm-11 1L8.5 8.5l.94-2.06 2.06-.94-2.06-.94L8.5 2.5l-.94 2.06-2.06.94zm10 10l.94 2.06.94-2.06 2.06-.94-2.06-.94-.94-2.06-.94 2.06-2.06.94z\"/><path d=\"M17.41 7.96l-1.37-1.37c-.4-.4-.92-.59-1.43-.59-.52 0-1.04.2-1.43.59L10.3 9.45l-7.72 7.72c-.78.78-.78 2.05 0 2.83L4 21.41c.39.39.9.59 1.41.59.51 0 1.02-.2 1.41-.59l7.78-7.78 2.81-2.81c.8-.78.8-2.07 0-2.86zM5.41 20L4 18.59l7.72-7.72 1.47 1.35L5.41 20z\"/>\n",
              "  </svg>\n",
              "      </button>\n",
              "      \n",
              "  <style>\n",
              "    .colab-df-container {\n",
              "      display:flex;\n",
              "      flex-wrap:wrap;\n",
              "      gap: 12px;\n",
              "    }\n",
              "\n",
              "    .colab-df-convert {\n",
              "      background-color: #E8F0FE;\n",
              "      border: none;\n",
              "      border-radius: 50%;\n",
              "      cursor: pointer;\n",
              "      display: none;\n",
              "      fill: #1967D2;\n",
              "      height: 32px;\n",
              "      padding: 0 0 0 0;\n",
              "      width: 32px;\n",
              "    }\n",
              "\n",
              "    .colab-df-convert:hover {\n",
              "      background-color: #E2EBFA;\n",
              "      box-shadow: 0px 1px 2px rgba(60, 64, 67, 0.3), 0px 1px 3px 1px rgba(60, 64, 67, 0.15);\n",
              "      fill: #174EA6;\n",
              "    }\n",
              "\n",
              "    [theme=dark] .colab-df-convert {\n",
              "      background-color: #3B4455;\n",
              "      fill: #D2E3FC;\n",
              "    }\n",
              "\n",
              "    [theme=dark] .colab-df-convert:hover {\n",
              "      background-color: #434B5C;\n",
              "      box-shadow: 0px 1px 3px 1px rgba(0, 0, 0, 0.15);\n",
              "      filter: drop-shadow(0px 1px 2px rgba(0, 0, 0, 0.3));\n",
              "      fill: #FFFFFF;\n",
              "    }\n",
              "  </style>\n",
              "\n",
              "      <script>\n",
              "        const buttonEl =\n",
              "          document.querySelector('#df-4617921f-93ab-4f8f-8c08-305eac5e0727 button.colab-df-convert');\n",
              "        buttonEl.style.display =\n",
              "          google.colab.kernel.accessAllowed ? 'block' : 'none';\n",
              "\n",
              "        async function convertToInteractive(key) {\n",
              "          const element = document.querySelector('#df-4617921f-93ab-4f8f-8c08-305eac5e0727');\n",
              "          const dataTable =\n",
              "            await google.colab.kernel.invokeFunction('convertToInteractive',\n",
              "                                                     [key], {});\n",
              "          if (!dataTable) return;\n",
              "\n",
              "          const docLinkHtml = 'Like what you see? Visit the ' +\n",
              "            '<a target=\"_blank\" href=https://colab.research.google.com/notebooks/data_table.ipynb>data table notebook</a>'\n",
              "            + ' to learn more about interactive tables.';\n",
              "          element.innerHTML = '';\n",
              "          dataTable['output_type'] = 'display_data';\n",
              "          await google.colab.output.renderOutput(dataTable, element);\n",
              "          const docLink = document.createElement('div');\n",
              "          docLink.innerHTML = docLinkHtml;\n",
              "          element.appendChild(docLink);\n",
              "        }\n",
              "      </script>\n",
              "    </div>\n",
              "  </div>\n",
              "  "
            ]
          },
          "metadata": {},
          "execution_count": 5
        }
      ]
    },
    {
      "cell_type": "code",
      "source": [
        "# Plot the dataset, to show proportion of puns vs non-puns\n",
        "df.groupby(['Pun']).size().plot.bar()"
      ],
      "metadata": {
        "colab": {
          "base_uri": "https://localhost:8080/",
          "height": 293
        },
        "id": "mlt7V785mVOX",
        "outputId": "9508df44-4f2d-437b-959f-369b4dfbd665"
      },
      "execution_count": null,
      "outputs": [
        {
          "output_type": "execute_result",
          "data": {
            "text/plain": [
              "<matplotlib.axes._subplots.AxesSubplot at 0x7eff656ff750>"
            ]
          },
          "metadata": {},
          "execution_count": 6
        },
        {
          "output_type": "display_data",
          "data": {
            "text/plain": [
              "<Figure size 432x288 with 1 Axes>"
            ],
            "image/png": "[encoded data removed]"
          },
          "metadata": {
            "needs_background": "light"
          }
        }
      ]
    },
    {
      "cell_type": "code",
      "source": [
        "# Split dataset into train and test\n",
        "from sklearn.model_selection import train_test_split\n",
        "X_train, X_test, y_train, y_test = train_test_split(df['Joke'], \n",
        "                                                    df['Pun'], \n",
        "                                                    stratify=df['Pun'], \n",
        "                                                    shuffle=True, \n",
        "                                                    random_state=42, \n",
        "                                                    train_size=0.7)"
      ],
      "metadata": {
        "id": "PjpdlYRdnBhM"
      },
      "execution_count": null,
      "outputs": []
    },
    {
      "cell_type": "markdown",
      "source": [
        "## Section 2: Creating BERT Layers and Model"
      ],
      "metadata": {
        "id": "K9lHB4mDXzXG"
      }
    },
    {
      "cell_type": "code",
      "source": [
        "# Downloading the BERT Preprocessor and Encoder from TensorFlow Hub\n",
        "# Link for BERT Models: https://tfhub.dev/google/collections/bert/1\n",
        "\n",
        "bert_preprocessor= hub.KerasLayer(\"https://tfhub.dev/tensorflow/bert_en_uncased_preprocess/3\")\n",
        "bert_model = hub.KerasLayer(\"https://tfhub.dev/tensorflow/bert_en_uncased_L-12_H-768_A-12/4\")"
      ],
      "metadata": {
        "id": "X3LCITO4nBze"
      },
      "execution_count": null,
      "outputs": []
    },
    {
      "cell_type": "code",
      "source": [
        "# Input Layer > Preprocess Layer > BERT Layer > Dropout > Classifier\n",
        "\n",
        "input = tf.keras.layers.Input(shape=(), dtype=tf.string, name='text')\n",
        "pre_processed_text = bert_preprocessor(input)\n",
        "bert_outputs = bert_model(pre_processed_text)\n",
        "net = bert_outputs['pooled_output']\n",
        "dropout_layer = tf.keras.layers.Dropout(0.1)(net)\n",
        "output = tf.keras.layers.Dense(1, activation='sigmoid', name=\"output\")(dropout_layer)\n",
        "\n",
        "# Combine Layers to make final model\n",
        "model = tf.keras.Model(inputs=[input], outputs = [output])"
      ],
      "metadata": {
        "id": "kqDVTGHQnB2S"
      },
      "execution_count": null,
      "outputs": []
    },
    {
      "cell_type": "code",
      "source": [
        "# Compile and fit model\n",
        "model.compile(optimizer='adam', loss='binary_crossentropy', metrics=['accuracy'])\n",
        "\n",
        "history = model.fit(X_train, y_train, validation_split = 0.1, epochs=10, batch_size = 32)"
      ],
      "metadata": {
        "colab": {
          "base_uri": "https://localhost:8080/"
        },
        "id": "LWcN_nXaXK72",
        "outputId": "db29f9ea-379a-4433-9909-e804295164a3"
      },
      "execution_count": null,
      "outputs": [
        {
          "output_type": "stream",
          "name": "stdout",
          "text": [
            "Epoch 1/10\n",
            "36/36 [==============================] - 34s 681ms/step - loss: 0.6584 - accuracy: 0.6557 - val_loss: 0.6354 - val_accuracy: 0.6640\n",
            "Epoch 2/10\n",
            "36/36 [==============================] - 24s 661ms/step - loss: 0.5536 - accuracy: 0.7217 - val_loss: 0.5505 - val_accuracy: 0.7440\n",
            "Epoch 3/10\n",
            "36/36 [==============================] - 24s 662ms/step - loss: 0.5157 - accuracy: 0.7422 - val_loss: 0.5497 - val_accuracy: 0.6880\n",
            "Epoch 4/10\n",
            "36/36 [==============================] - 24s 661ms/step - loss: 0.4988 - accuracy: 0.7395 - val_loss: 0.5198 - val_accuracy: 0.7200\n",
            "Epoch 5/10\n",
            "36/36 [==============================] - 24s 661ms/step - loss: 0.4786 - accuracy: 0.7600 - val_loss: 0.4935 - val_accuracy: 0.7360\n",
            "Epoch 6/10\n",
            "36/36 [==============================] - 24s 664ms/step - loss: 0.4684 - accuracy: 0.7591 - val_loss: 0.4708 - val_accuracy: 0.7520\n",
            "Epoch 7/10\n",
            "36/36 [==============================] - 24s 664ms/step - loss: 0.4593 - accuracy: 0.7806 - val_loss: 0.4897 - val_accuracy: 0.7280\n",
            "Epoch 8/10\n",
            "36/36 [==============================] - 24s 663ms/step - loss: 0.4598 - accuracy: 0.7725 - val_loss: 0.4689 - val_accuracy: 0.7520\n",
            "Epoch 9/10\n",
            "36/36 [==============================] - 24s 662ms/step - loss: 0.4468 - accuracy: 0.7993 - val_loss: 0.4485 - val_accuracy: 0.7600\n",
            "Epoch 10/10\n",
            "36/36 [==============================] - 24s 664ms/step - loss: 0.4400 - accuracy: 0.7966 - val_loss: 0.4547 - val_accuracy: 0.7520\n"
          ]
        }
      ]
    },
    {
      "cell_type": "code",
      "source": [
        "# Plot Validation and Test Accuracy\n",
        "from matplotlib import pyplot as plt\n",
        "\n",
        "# Plot the trends\n",
        "plt.plot(history.history['accuracy'])\n",
        "plt.plot(history.history['val_accuracy'])\n",
        "\n",
        "# Labels\n",
        "plt.title('model accuracy')\n",
        "plt.ylabel('accuracy')\n",
        "plt.xlabel('epoch')\n",
        "plt.legend(['train', 'val'], loc='upper left')\n",
        "\n",
        "plt.show()"
      ],
      "metadata": {
        "colab": {
          "base_uri": "https://localhost:8080/",
          "height": 295
        },
        "id": "YANQ4bqhv8Hv",
        "outputId": "2d8b37c7-44ca-4a02-9aeb-8a5dabd0c674"
      },
      "execution_count": null,
      "outputs": [
        {
          "output_type": "display_data",
          "data": {
            "text/plain": [
              "<Figure size 432x288 with 1 Axes>"
            ],
            "image/png": "[encoded data removed]"
          },
          "metadata": {
            "needs_background": "light"
          }
        }
      ]
    },
    {
      "cell_type": "code",
      "source": [
        "# Evaluate the model on test data\n",
        "# model.evaluate(X_test, y_test)\n",
        "y_pre = model.predict(X_test)\n",
        "y_true = np.asarray(y_test, dtype = 'float32')"
      ],
      "metadata": {
        "id": "WEd4nOx5vWqb"
      },
      "execution_count": null,
      "outputs": []
    },
    {
      "cell_type": "code",
      "source": [
        "from sklearn.metrics import f1_score, recall_score, precision_score\n",
        "\n",
        "# Use Sklearn Metrics to Calculate F1, Recall and Precision Scores\n",
        "y_pre = np.where(y_pre >= 0.5, 1, 0) # convert y_pre to the same format as y_true\n",
        "print(\"---BERT Classifier---\\nprecision：%s \\nrecall：%s \\nf1：%s\" % (precision_score(y_true, y_pre), recall_score(y_true, y_pre), f1_score(y_true, y_pre))) "
      ],
      "metadata": {
        "colab": {
          "base_uri": "https://localhost:8080/"
        },
        "id": "O8fTen4xjgR9",
        "outputId": "7f4999eb-8c1b-4e6f-dbaa-a9a405533e99"
      },
      "execution_count": null,
      "outputs": [
        {
          "output_type": "stream",
          "name": "stdout",
          "text": [
            "---BERT Classifier---\n",
            "precision：0.7838983050847458 \n",
            "recall：0.9711286089238845 \n",
            "f1：0.8675263774912075\n"
          ]
        }
      ]
    },
    {
      "cell_type": "code",
      "source": [
        "# --- PLOT CONFUSION MATRIX ---\n",
        "\n",
        "from sklearn.metrics import confusion_matrix\n",
        "import seaborn as sns\n",
        "\n",
        "# Create confusion matrix\n",
        "cfm = confusion_matrix(y_true, y_pre)\n",
        "\n",
        "# Plot the confusion matrix\n",
        "plot = sns.heatmap(cfm, annot=True, cmap='Greens')\n",
        "\n",
        "# Set labels and titles\n",
        "plot.set_title('BERT Model Results\\n');\n",
        "plot.set_xlabel('\\nPredicted')\n",
        "plot.set_ylabel('Actual');\n",
        "\n",
        "# Set axis titles\n",
        "plot.xaxis.set_ticklabels(['False','True'])\n",
        "plot.yaxis.set_ticklabels(['False','True'])\n",
        "\n",
        "plt.show()"
      ],
      "metadata": {
        "colab": {
          "base_uri": "https://localhost:8080/",
          "height": 322
        },
        "id": "-00lqxRqI0UQ",
        "outputId": "4e0b6a63-9086-45ee-c495-a39021e2b96a"
      },
      "execution_count": null,
      "outputs": [
        {
          "output_type": "display_data",
          "data": {
            "text/plain": [
              "<Figure size 432x288 with 2 Axes>"
            ],
            "image/png": "[encoded data removed]"
          },
          "metadata": {
            "needs_background": "light"
          }
        }
      ]
    },
    {
      "cell_type": "markdown",
      "source": [
        "## Section 3: Simpler Models\n"
      ],
      "metadata": {
        "id": "JzSGAIqJ2ZKs"
      }
    },
    {
      "cell_type": "markdown",
      "source": [
        "### SVM Classifier"
      ],
      "metadata": {
        "id": "y8MfELz0D0V-"
      }
    },
    {
      "cell_type": "code",
      "source": [
        "# Imports to make a test SVM Classifier\n",
        "from sklearn import svm\n",
        "from sklearn.pipeline import Pipeline\n",
        "\n",
        "# Count Vectorizer to vectorize words in text (preprocessing)\n",
        "from sklearn.feature_extraction.text import CountVectorizer\n",
        "\n",
        "# Create Pipeline with Vectorizer > SVM/SVC\n",
        "svm_clf = Pipeline([('vectorizer', CountVectorizer()), ('svm', svm.SVC())])\n",
        "\n",
        "# Use Grid Search to FInd Best Parameters\n",
        "from sklearn.model_selection import GridSearchCV\n",
        "param_grid = {'vectorizer__ngram_range': [(1, 1), (1, 2), (2, 2)],\n",
        "              'svm__kernel': ('linear', 'rbf'),\n",
        "              'svm__C': (0.1, 1, 10, 100)}\n",
        "gscv = GridSearchCV(svm_clf, param_grid, n_jobs=-1)\n",
        "\n",
        "# Fit and print results\n",
        "results = gscv.fit(X_train, y_train)\n",
        "results.best_params_"
      ],
      "metadata": {
        "colab": {
          "base_uri": "https://localhost:8080/"
        },
        "outputId": "9d0dab24-1711-447f-a939-32a6b3e686e8",
        "id": "lGmImqvR_4nc"
      },
      "execution_count": null,
      "outputs": [
        {
          "output_type": "execute_result",
          "data": {
            "text/plain": [
              "{'svm__C': 1, 'svm__kernel': 'linear', 'vectorizer__ngram_range': (1, 2)}"
            ]
          },
          "metadata": {},
          "execution_count": 15
        }
      ]
    },
    {
      "cell_type": "code",
      "source": [
        "# Create classifier with best parameters\n",
        "from sklearn.metrics import f1_score, recall_score, precision_score\n",
        "svm_clf = Pipeline([('vectorizer', CountVectorizer(ngram_range=(1, 2))), \n",
        "                    ('svm', svm.SVC(kernel='linear', C=1))])\n",
        "\n",
        "# Fit to Training Data\n",
        "svm_clf.fit(X_train, y_train)\n",
        "\n",
        "# Use Sklearn Metrics to Calculate F1, Recall and Precision Scores\n",
        "y_pre = svm_clf.predict(X_test)\n",
        "y_true = np.asarray(y_test, dtype = 'float32')\n",
        "print(\"---SVM Classifier---\\nprecision：%s \\nrecall：%s \\nf1：%s\" % (precision_score(y_true, y_pre), recall_score(y_true, y_pre), f1_score(y_true, y_pre))) "
      ],
      "metadata": {
        "colab": {
          "base_uri": "https://localhost:8080/"
        },
        "id": "h_GYHoLUDzn1",
        "outputId": "df9624dd-4b01-443c-9fb7-55f589ce40f2"
      },
      "execution_count": null,
      "outputs": [
        {
          "output_type": "stream",
          "name": "stdout",
          "text": [
            "---SVM Classifier---\n",
            "precision：0.8630490956072352 \n",
            "recall：0.8766404199475065 \n",
            "f1：0.8697916666666666\n"
          ]
        }
      ]
    },
    {
      "cell_type": "code",
      "source": [
        "# --- PLOT CONFUSION MATRIX ---\n",
        "import matplotlib.pyplot as plt\n",
        "# Create confusion matrix\n",
        "cfm = confusion_matrix(y_test, y_pre)\n",
        "\n",
        "# Plot the confusion matrix\n",
        "plot = sns.heatmap(cfm, annot=True, cmap='Blues')\n",
        "\n",
        "# Set labels and titles\n",
        "plot.set_title('SVM Model Results\\n');\n",
        "plot.set_xlabel('\\nPredicted')\n",
        "plot.set_ylabel('Actual');\n",
        "\n",
        "# Set axis titles\n",
        "plot.xaxis.set_ticklabels(['False','True'])\n",
        "plot.yaxis.set_ticklabels(['False','True'])\n",
        "\n",
        "plt.show()"
      ],
      "metadata": {
        "colab": {
          "base_uri": "https://localhost:8080/",
          "height": 322
        },
        "id": "mrxxhueHJ4Yk",
        "outputId": "10acca26-a30a-49ca-e073-f1ec06500be3"
      },
      "execution_count": null,
      "outputs": [
        {
          "output_type": "display_data",
          "data": {
            "text/plain": [
              "<Figure size 432x288 with 2 Axes>"
            ],
            "image/png": "[encoded data removed]"
          },
          "metadata": {
            "needs_background": "light"
          }
        }
      ]
    },
    {
      "cell_type": "markdown",
      "source": [
        "### Naive Bayes Classifier"
      ],
      "metadata": {
        "id": "pmih92x6E6Kc"
      }
    },
    {
      "cell_type": "code",
      "source": [
        "# Imports to make a test Naive Bayes Classifier Classifier\n",
        "from sklearn import svm\n",
        "from sklearn.naive_bayes import MultinomialNB\n",
        "\n",
        "# Create Pipeline with Vectorizer > Naive Bayes\n",
        "nb_clf = Pipeline([('vectorizer', CountVectorizer()), ('naive_bayes', MultinomialNB())])\n",
        "\n",
        "# Use Grid Search to FInd Best Parameters\n",
        "param_grid = {'vectorizer__ngram_range': [(1, 1), (1, 2), (2, 2)], \n",
        "              'naive_bayes__alpha': (0.001, 0.01, 0.1, 1),\n",
        "              'naive_bayes__fit_prior': (True, False)}\n",
        "gscv = GridSearchCV(nb_clf, param_grid, n_jobs=-1)\n",
        "\n",
        "# Fit and print results\n",
        "results = gscv.fit(X_train, y_train)\n",
        "results.best_params_"
      ],
      "metadata": {
        "colab": {
          "base_uri": "https://localhost:8080/"
        },
        "outputId": "600b585d-8cc4-47e3-aca1-fda941e94d86",
        "id": "UEzxAUdAE6Kd"
      },
      "execution_count": null,
      "outputs": [
        {
          "output_type": "execute_result",
          "data": {
            "text/plain": [
              "{'naive_bayes__alpha': 1,\n",
              " 'naive_bayes__fit_prior': False,\n",
              " 'vectorizer__ngram_range': (1, 2)}"
            ]
          },
          "metadata": {},
          "execution_count": 18
        }
      ]
    },
    {
      "cell_type": "code",
      "source": [
        "# Create classifier with best parameters\n",
        "nb_clf = Pipeline([('vectorizer', CountVectorizer(ngram_range=(1, 2))), ('naive_bayes', MultinomialNB(fit_prior=False, alpha=0.01))])\n",
        "\n",
        "# Fit to Training Data\n",
        "nb_clf.fit(X_train, y_train)\n",
        "\n",
        "# Use Sklearn Metrics to Calculate F1, Recall and Precision Scores\n",
        "y_pre = nb_clf.predict(X_test)\n",
        "print(\"---Naive Bayes Classifier---\\nprecision：%s \\nrecall：%s \\nf1：%s\" % (precision_score(y_true, y_pre), recall_score(y_true, y_pre), f1_score(y_true, y_pre))) "
      ],
      "metadata": {
        "colab": {
          "base_uri": "https://localhost:8080/"
        },
        "outputId": "189260f1-8a8e-461f-a302-b9abd5640b70",
        "id": "Iiilp06VE6Kd"
      },
      "execution_count": null,
      "outputs": [
        {
          "output_type": "stream",
          "name": "stdout",
          "text": [
            "---Naive Bayes Classifier---\n",
            "precision：0.8337468982630273 \n",
            "recall：0.8818897637795275 \n",
            "f1：0.857142857142857\n"
          ]
        }
      ]
    },
    {
      "cell_type": "code",
      "source": [
        "# --- PLOT CONFUSION MATRIX ---\n",
        "\n",
        "# Create confusion matrix\n",
        "cfm = confusion_matrix(y_test, y_pre)\n",
        "\n",
        "# Plot the confusion matrix\n",
        "plot = sns.heatmap(cfm, annot=True, cmap='Reds')\n",
        "\n",
        "# Set labels and titles\n",
        "plot.set_title('Naive Bayes Model Results\\n');\n",
        "plot.set_xlabel('\\nPredicted')\n",
        "plot.set_ylabel('Actual');\n",
        "\n",
        "# Set axis titles\n",
        "plot.xaxis.set_ticklabels(['False','True'])\n",
        "plot.yaxis.set_ticklabels(['False','True'])\n",
        "\n",
        "plt.show()"
      ],
      "metadata": {
        "colab": {
          "base_uri": "https://localhost:8080/",
          "height": 322
        },
        "id": "3PQedzlEKE7R",
        "outputId": "5120cee3-a8af-4332-bbd9-95ed40fcb4c1"
      },
      "execution_count": null,
      "outputs": [
        {
          "output_type": "display_data",
          "data": {
            "text/plain": [
              "<Figure size 432x288 with 2 Axes>"
            ],
            "image/png": "[encoded data removed]"
          },
          "metadata": {
            "needs_background": "light"
          }
        }
      ]
    },
    {
      "cell_type": "code",
      "source": [
        "%%shell\n",
        "jupyter nbconvert --to html BERT.ipynb"
      ],
      "metadata": {
        "colab": {
          "base_uri": "https://localhost:8080/"
        },
        "id": "X2Vb9HPjrAUj",
        "outputId": "d02b35a8-dc62-4c95-88e5-d0f29ff29d56"
      },
      "execution_count": null,
      "outputs": [
        {
          "output_type": "stream",
          "name": "stdout",
          "text": [
            "[NbConvertApp] Converting notebook BERT.ipynb to html\n",
            "[NbConvertApp] Writing 394697 bytes to BERT.html\n"
          ]
        },
        {
          "output_type": "execute_result",
          "data": {
            "text/plain": [
              ""
            ]
          },
          "metadata": {},
          "execution_count": 35
        }
      ]
    }
  ]
}